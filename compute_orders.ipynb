{
 "cells": [
  {
   "cell_type": "code",
   "execution_count": 1,
   "metadata": {},
   "outputs": [],
   "source": [
    "from streams import STREAMSDataset\n",
    "\n",
    "datasets = ['iwildcam', 'civilcomments', 'poverty', 'jeopardy', 'airquality', 'zillow', 'coauthor', 'census']"
   ]
  },
  {
   "cell_type": "code",
   "execution_count": 2,
   "metadata": {},
   "outputs": [
    {
     "name": "stderr",
     "output_type": "stream",
     "text": [
      "INFO:root:Creating dataset civilcomments\n",
      "INFO:root:Creating logits\n",
      "/Users/shreyashankar/miniforge3/envs/ttb/lib/python3.9/site-packages/cvxpy/problems/problem.py:1333: UserWarning: Solution may be inaccurate. Try another solver, adjusting the solver settings, or solve with verbose=True for more information.\n",
      "  warnings.warn(\n",
      "INFO:root:Iteration 1: 13.049935655005825\n",
      "INFO:root:Iteration 2: 13.026013697443185\n",
      "INFO:root:Iteration 3: 13.016790854201895\n",
      "INFO:root:Iteration 4: 13.012747263522321\n"
     ]
    },
    {
     "ename": "SolverError",
     "evalue": "Solver 'ECOS' failed. Try another solver, or solve with verbose=True for more information.",
     "output_type": "error",
     "traceback": [
      "\u001b[0;31m---------------------------------------------------------------------------\u001b[0m",
      "\u001b[0;31mSolverError\u001b[0m                               Traceback (most recent call last)",
      "\u001b[1;32m/Users/shreyashankar/Documents/projects/streams/compute_orders.ipynb Cell 2'\u001b[0m in \u001b[0;36m<cell line: 5>\u001b[0;34m()\u001b[0m\n\u001b[1;32m      <a href='vscode-notebook-cell:/Users/shreyashankar/Documents/projects/streams/compute_orders.ipynb#ch0000001?line=2'>3</a>\u001b[0m logging\u001b[39m.\u001b[39mgetLogger()\u001b[39m.\u001b[39msetLevel(logging\u001b[39m.\u001b[39mINFO)\n\u001b[1;32m      <a href='vscode-notebook-cell:/Users/shreyashankar/Documents/projects/streams/compute_orders.ipynb#ch0000001?line=4'>5</a>\u001b[0m \u001b[39mfor\u001b[39;00m name \u001b[39min\u001b[39;00m datasets[\u001b[39m1\u001b[39m:]:\n\u001b[0;32m----> <a href='vscode-notebook-cell:/Users/shreyashankar/Documents/projects/streams/compute_orders.ipynb#ch0000001?line=5'>6</a>\u001b[0m     ds \u001b[39m=\u001b[39m STREAMSDataset(name, T\u001b[39m=\u001b[39;49m\u001b[39m10\u001b[39;49m, log_step\u001b[39m=\u001b[39;49m\u001b[39m1\u001b[39;49m)\n\u001b[1;32m      <a href='vscode-notebook-cell:/Users/shreyashankar/Documents/projects/streams/compute_orders.ipynb#ch0000001?line=6'>7</a>\u001b[0m     \u001b[39mprint\u001b[39m(ds\u001b[39m.\u001b[39mname)\n\u001b[1;32m      <a href='vscode-notebook-cell:/Users/shreyashankar/Documents/projects/streams/compute_orders.ipynb#ch0000001?line=7'>8</a>\u001b[0m     ds\u001b[39m.\u001b[39mvisualize()\n",
      "File \u001b[0;32m~/Documents/projects/streams/streams/streams_dataset.py:76\u001b[0m, in \u001b[0;36mSTREAMSDataset.__init__\u001b[0;34m(self, name, T, inference_window, seed, use_time_ordering, force_download, n_t, **kwargs)\u001b[0m\n\u001b[1;32m     <a href='file:///Users/shreyashankar/Documents/projects/streams/streams/streams_dataset.py?line=73'>74</a>\u001b[0m     \u001b[39melse\u001b[39;00m:\n\u001b[1;32m     <a href='file:///Users/shreyashankar/Documents/projects/streams/streams/streams_dataset.py?line=74'>75</a>\u001b[0m         logging\u001b[39m.\u001b[39minfo(\u001b[39m\"\u001b[39m\u001b[39mCreating logits\u001b[39m\u001b[39m\"\u001b[39m)\n\u001b[0;32m---> <a href='file:///Users/shreyashankar/Documents/projects/streams/streams/streams_dataset.py?line=75'>76</a>\u001b[0m         \u001b[39mself\u001b[39m\u001b[39m.\u001b[39msampling_logits, \u001b[39mself\u001b[39m\u001b[39m.\u001b[39msignals \u001b[39m=\u001b[39m create_logits(\n\u001b[1;32m     <a href='file:///Users/shreyashankar/Documents/projects/streams/streams/streams_dataset.py?line=76'>77</a>\u001b[0m             \u001b[39mself\u001b[39;49m\u001b[39m.\u001b[39;49mdomain_matrices,\n\u001b[1;32m     <a href='file:///Users/shreyashankar/Documents/projects/streams/streams/streams_dataset.py?line=77'>78</a>\u001b[0m             T\u001b[39m=\u001b[39;49m\u001b[39mlen\u001b[39;49m(\u001b[39mself\u001b[39;49m\u001b[39m.\u001b[39;49mdataset) \u001b[39mif\u001b[39;49;00m T \u001b[39mis\u001b[39;49;00m \u001b[39mNone\u001b[39;49;00m \u001b[39melse\u001b[39;49;00m T,\n\u001b[1;32m     <a href='file:///Users/shreyashankar/Documents/projects/streams/streams/streams_dataset.py?line=78'>79</a>\u001b[0m             \u001b[39m*\u001b[39;49m\u001b[39m*\u001b[39;49mkwargs,\n\u001b[1;32m     <a href='file:///Users/shreyashankar/Documents/projects/streams/streams/streams_dataset.py?line=79'>80</a>\u001b[0m         )\n\u001b[1;32m     <a href='file:///Users/shreyashankar/Documents/projects/streams/streams/streams_dataset.py?line=81'>82</a>\u001b[0m \u001b[39m# Create samples\u001b[39;00m\n\u001b[1;32m     <a href='file:///Users/shreyashankar/Documents/projects/streams/streams/streams_dataset.py?line=82'>83</a>\u001b[0m \u001b[39mif\u001b[39;00m \u001b[39m\"\u001b[39m\u001b[39msample_history\u001b[39m\u001b[39m\"\u001b[39m \u001b[39min\u001b[39;00m kwargs:\n",
      "File \u001b[0;32m~/Documents/projects/streams/streams/utils.py:146\u001b[0m, in \u001b[0;36mcreate_logits\u001b[0;34m(domain_matrices, T, gamma, num_peaks, start_max, duration, log_step, seed)\u001b[0m\n\u001b[1;32m    <a href='file:///Users/shreyashankar/Documents/projects/streams/streams/utils.py?line=143'>144</a>\u001b[0m \u001b[39m# Solve the problem\u001b[39;00m\n\u001b[1;32m    <a href='file:///Users/shreyashankar/Documents/projects/streams/streams/utils.py?line=144'>145</a>\u001b[0m prob \u001b[39m=\u001b[39m cp\u001b[39m.\u001b[39mProblem(obj, all_constraints)\n\u001b[0;32m--> <a href='file:///Users/shreyashankar/Documents/projects/streams/streams/utils.py?line=145'>146</a>\u001b[0m prob\u001b[39m.\u001b[39;49msolve()\n\u001b[1;32m    <a href='file:///Users/shreyashankar/Documents/projects/streams/streams/utils.py?line=147'>148</a>\u001b[0m optimal_value \u001b[39m=\u001b[39m prob\u001b[39m.\u001b[39mvalue\n\u001b[1;32m    <a href='file:///Users/shreyashankar/Documents/projects/streams/streams/utils.py?line=149'>150</a>\u001b[0m curr_z \u001b[39m=\u001b[39m aggregate_min(\n\u001b[1;32m    <a href='file:///Users/shreyashankar/Documents/projects/streams/streams/utils.py?line=150'>151</a>\u001b[0m     [mat \u001b[39m@\u001b[39m s\u001b[39m.\u001b[39mvalue \u001b[39mfor\u001b[39;00m mat, s \u001b[39min\u001b[39;00m \u001b[39mzip\u001b[39m(domain_matrices, s_vectors)],\n\u001b[1;32m    <a href='file:///Users/shreyashankar/Documents/projects/streams/streams/utils.py?line=151'>152</a>\u001b[0m     use_cvx\u001b[39m=\u001b[39m\u001b[39mFalse\u001b[39;00m,\n\u001b[1;32m    <a href='file:///Users/shreyashankar/Documents/projects/streams/streams/utils.py?line=152'>153</a>\u001b[0m )\n",
      "File \u001b[0;32m~/miniforge3/envs/ttb/lib/python3.9/site-packages/cvxpy/problems/problem.py:481\u001b[0m, in \u001b[0;36mProblem.solve\u001b[0;34m(self, *args, **kwargs)\u001b[0m\n\u001b[1;32m    <a href='file:///Users/shreyashankar/miniforge3/envs/ttb/lib/python3.9/site-packages/cvxpy/problems/problem.py?line=478'>479</a>\u001b[0m \u001b[39melse\u001b[39;00m:\n\u001b[1;32m    <a href='file:///Users/shreyashankar/miniforge3/envs/ttb/lib/python3.9/site-packages/cvxpy/problems/problem.py?line=479'>480</a>\u001b[0m     solve_func \u001b[39m=\u001b[39m Problem\u001b[39m.\u001b[39m_solve\n\u001b[0;32m--> <a href='file:///Users/shreyashankar/miniforge3/envs/ttb/lib/python3.9/site-packages/cvxpy/problems/problem.py?line=480'>481</a>\u001b[0m \u001b[39mreturn\u001b[39;00m solve_func(\u001b[39mself\u001b[39;49m, \u001b[39m*\u001b[39;49margs, \u001b[39m*\u001b[39;49m\u001b[39m*\u001b[39;49mkwargs)\n",
      "File \u001b[0;32m~/miniforge3/envs/ttb/lib/python3.9/site-packages/cvxpy/problems/problem.py:1016\u001b[0m, in \u001b[0;36mProblem._solve\u001b[0;34m(self, solver, warm_start, verbose, gp, qcp, requires_grad, enforce_dpp, ignore_dpp, **kwargs)\u001b[0m\n\u001b[1;32m   <a href='file:///Users/shreyashankar/miniforge3/envs/ttb/lib/python3.9/site-packages/cvxpy/problems/problem.py?line=1013'>1014</a>\u001b[0m end \u001b[39m=\u001b[39m time\u001b[39m.\u001b[39mtime()\n\u001b[1;32m   <a href='file:///Users/shreyashankar/miniforge3/envs/ttb/lib/python3.9/site-packages/cvxpy/problems/problem.py?line=1014'>1015</a>\u001b[0m \u001b[39mself\u001b[39m\u001b[39m.\u001b[39m_solve_time \u001b[39m=\u001b[39m end \u001b[39m-\u001b[39m start\n\u001b[0;32m-> <a href='file:///Users/shreyashankar/miniforge3/envs/ttb/lib/python3.9/site-packages/cvxpy/problems/problem.py?line=1015'>1016</a>\u001b[0m \u001b[39mself\u001b[39;49m\u001b[39m.\u001b[39;49munpack_results(solution, solving_chain, inverse_data)\n\u001b[1;32m   <a href='file:///Users/shreyashankar/miniforge3/envs/ttb/lib/python3.9/site-packages/cvxpy/problems/problem.py?line=1016'>1017</a>\u001b[0m \u001b[39mif\u001b[39;00m verbose:\n\u001b[1;32m   <a href='file:///Users/shreyashankar/miniforge3/envs/ttb/lib/python3.9/site-packages/cvxpy/problems/problem.py?line=1017'>1018</a>\u001b[0m     \u001b[39mprint\u001b[39m(_FOOTER)\n",
      "File \u001b[0;32m~/miniforge3/envs/ttb/lib/python3.9/site-packages/cvxpy/problems/problem.py:1341\u001b[0m, in \u001b[0;36mProblem.unpack_results\u001b[0;34m(self, solution, chain, inverse_data)\u001b[0m\n\u001b[1;32m   <a href='file:///Users/shreyashankar/miniforge3/envs/ttb/lib/python3.9/site-packages/cvxpy/problems/problem.py?line=1338'>1339</a>\u001b[0m     warnings\u001b[39m.\u001b[39mwarn(INF_OR_UNB_MESSAGE)\n\u001b[1;32m   <a href='file:///Users/shreyashankar/miniforge3/envs/ttb/lib/python3.9/site-packages/cvxpy/problems/problem.py?line=1339'>1340</a>\u001b[0m \u001b[39mif\u001b[39;00m solution\u001b[39m.\u001b[39mstatus \u001b[39min\u001b[39;00m s\u001b[39m.\u001b[39mERROR:\n\u001b[0;32m-> <a href='file:///Users/shreyashankar/miniforge3/envs/ttb/lib/python3.9/site-packages/cvxpy/problems/problem.py?line=1340'>1341</a>\u001b[0m     \u001b[39mraise\u001b[39;00m error\u001b[39m.\u001b[39mSolverError(\n\u001b[1;32m   <a href='file:///Users/shreyashankar/miniforge3/envs/ttb/lib/python3.9/site-packages/cvxpy/problems/problem.py?line=1341'>1342</a>\u001b[0m             \u001b[39m\"\u001b[39m\u001b[39mSolver \u001b[39m\u001b[39m'\u001b[39m\u001b[39m%s\u001b[39;00m\u001b[39m'\u001b[39m\u001b[39m failed. \u001b[39m\u001b[39m\"\u001b[39m \u001b[39m%\u001b[39m chain\u001b[39m.\u001b[39msolver\u001b[39m.\u001b[39mname() \u001b[39m+\u001b[39m\n\u001b[1;32m   <a href='file:///Users/shreyashankar/miniforge3/envs/ttb/lib/python3.9/site-packages/cvxpy/problems/problem.py?line=1342'>1343</a>\u001b[0m             \u001b[39m\"\u001b[39m\u001b[39mTry another solver, or solve with verbose=True for more \u001b[39m\u001b[39m\"\u001b[39m\n\u001b[1;32m   <a href='file:///Users/shreyashankar/miniforge3/envs/ttb/lib/python3.9/site-packages/cvxpy/problems/problem.py?line=1343'>1344</a>\u001b[0m             \u001b[39m\"\u001b[39m\u001b[39minformation.\u001b[39m\u001b[39m\"\u001b[39m)\n\u001b[1;32m   <a href='file:///Users/shreyashankar/miniforge3/envs/ttb/lib/python3.9/site-packages/cvxpy/problems/problem.py?line=1345'>1346</a>\u001b[0m \u001b[39mself\u001b[39m\u001b[39m.\u001b[39munpack(solution)\n\u001b[1;32m   <a href='file:///Users/shreyashankar/miniforge3/envs/ttb/lib/python3.9/site-packages/cvxpy/problems/problem.py?line=1346'>1347</a>\u001b[0m \u001b[39mself\u001b[39m\u001b[39m.\u001b[39m_solver_stats \u001b[39m=\u001b[39m SolverStats(\u001b[39mself\u001b[39m\u001b[39m.\u001b[39m_solution\u001b[39m.\u001b[39mattr,\n\u001b[1;32m   <a href='file:///Users/shreyashankar/miniforge3/envs/ttb/lib/python3.9/site-packages/cvxpy/problems/problem.py?line=1347'>1348</a>\u001b[0m                                  chain\u001b[39m.\u001b[39msolver\u001b[39m.\u001b[39mname())\n",
      "\u001b[0;31mSolverError\u001b[0m: Solver 'ECOS' failed. Try another solver, or solve with verbose=True for more information."
     ]
    }
   ],
   "source": [
    "import logging\n",
    "logging.basicConfig()\n",
    "logging.getLogger().setLevel(logging.INFO)\n",
    "\n",
    "for name in datasets[2:]:\n",
    "    ds = STREAMSDataset(name, T=10, log_step=1)\n",
    "    print(ds.name)\n",
    "    ds.visualize()\n",
    "    ds.save_config(f\"configs/{ds.name}.joblib\")"
   ]
  },
  {
   "cell_type": "code",
   "execution_count": null,
   "metadata": {},
   "outputs": [],
   "source": []
  }
 ],
 "metadata": {
  "interpreter": {
   "hash": "125e6e438f6bf169001eca1db6f9b76bb8629196a71bc9c758d46cb6243b56f5"
  },
  "kernelspec": {
   "display_name": "Python 3.9.10 ('ttb')",
   "language": "python",
   "name": "python3"
  },
  "language_info": {
   "codemirror_mode": {
    "name": "ipython",
    "version": 3
   },
   "file_extension": ".py",
   "mimetype": "text/x-python",
   "name": "python",
   "nbconvert_exporter": "python",
   "pygments_lexer": "ipython3",
   "version": "3.9.10"
  },
  "orig_nbformat": 4
 },
 "nbformat": 4,
 "nbformat_minor": 2
}
